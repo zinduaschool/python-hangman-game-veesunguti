{
  "nbformat": 4,
  "nbformat_minor": 0,
  "metadata": {
    "colab": {
      "name": "Hangman.ipynb",
      "provenance": []
    },
    "kernelspec": {
      "name": "python3",
      "display_name": "Python 3"
    },
    "language_info": {
      "name": "python"
    }
  },
  "cells": [
    {
      "cell_type": "code",
      "metadata": {
        "id": "zDT1DRkbs8MO"
      },
      "source": [
        "import random "
      ],
      "execution_count": 5,
      "outputs": []
    },
    {
      "cell_type": "markdown",
      "metadata": {
        "id": "w8Id1jhnFPdh"
      },
      "source": [
        "Define a dictionaries of guesses you would want to use. Feel free to use any method to have your words defined, plus a theme, be it from a file. Here is an example of a key and value combination reflecting the words within the topic. "
      ]
    },
    {
      "cell_type": "code",
      "metadata": {
        "id": "j50qAxhatq9S"
      },
      "source": [
        "Themes = {\n",
        "    \"history\": [\n",
        "        \"marco polo\",\n",
        "        \"Napoleon\",\n",
        "        \"Mesopotamia\",\n",
        "        \"Persia\",\n",
        "        \"World War\"\n",
        "    ],\n",
        "    \"computers\": [\n",
        "        \"Bus\",\n",
        "        \"semiconductor\",\n",
        "        \"keyboard\",\n",
        "        \"vaccum tube\",\n",
        "        \"nanometer\"\n",
        "    ],\n",
        "     \"cars\": [\n",
        "        \"Dodge\",\n",
        "        \"Toyota\",\n",
        "        \"daihatsu\",\n",
        "        \"displacement\",\n",
        "        \"stroke\"\n",
        "    ]\n",
        "}"
      ],
      "execution_count": 58,
      "outputs": []
    },
    {
      "cell_type": "code",
      "metadata": {
        "id": "CuqJUAHKvVnQ"
      },
      "source": [
        "\n",
        "## You can use this function to get the keys in your dictionary for which you want to use as a theme \n",
        "def get_nth_key(dictionary, n=0):\n",
        "    if n < 0:\n",
        "        n += len(dictionary)\n",
        "    for i, key in enumerate(dictionary.keys()):\n",
        "        if i == n:\n",
        "            return key\n",
        "    raise IndexError(\"dictionary index out of range\") "
      ],
      "execution_count": 14,
      "outputs": []
    },
    {
      "cell_type": "code",
      "metadata": {
        "colab": {
          "base_uri": "https://localhost:8080/",
          "height": 35
        },
        "id": "btOETPFbv1Q2",
        "outputId": "1de466bb-bb10-4cad-806f-5cfb95d833e7"
      },
      "source": [
        "get_nth_key(Themes,n=random.randint(1,len(Themes))-1) # Choose at random which theme you want to use as a hint for the user. "
      ],
      "execution_count": 61,
      "outputs": [
        {
          "output_type": "execute_result",
          "data": {
            "application/vnd.google.colaboratory.intrinsic+json": {
              "type": "string"
            },
            "text/plain": [
              "'computers'"
            ]
          },
          "metadata": {
            "tags": []
          },
          "execution_count": 61
        }
      ]
    },
    {
      "cell_type": "code",
      "metadata": {
        "colab": {
          "base_uri": "https://localhost:8080/",
          "height": 35
        },
        "id": "A-ZxLMvKFkHN",
        "outputId": "29cc5362-f54b-4f1c-b69f-314bed2f03b8"
      },
      "source": [
        "random.choice(Themes[get_nth_key(Themes)]) # Use indexing to identify the masked word as shown. "
      ],
      "execution_count": 68,
      "outputs": [
        {
          "output_type": "execute_result",
          "data": {
            "application/vnd.google.colaboratory.intrinsic+json": {
              "type": "string"
            },
            "text/plain": [
              "'Mesopotamia'"
            ]
          },
          "metadata": {
            "tags": []
          },
          "execution_count": 68
        }
      ]
    },
    {
      "cell_type": "code",
      "metadata": {
        "id": "jP5-6x_9Gthj"
      },
      "source": [
        "# Use the above to define you get word function. \n",
        "\n",
        "def get_word():\n",
        "  ############\n",
        "  ############\n",
        "  return word.lower()"
      ],
      "execution_count": null,
      "outputs": []
    },
    {
      "cell_type": "code",
      "metadata": {
        "id": "-APRiZ52wNhg"
      },
      "source": [
        "###### Define your Play function with necessary lists containing the character and full word guessess. \n",
        "def play(word):\n",
        "    word_completion = \"_\" * len(word)\n",
        "    \n",
        "    # Define your lists with guessed characters and words here. \n",
        "    # Ensure you print the attempts remaining\n",
        "      while not fully_guessed and attempts > 0:\n",
        "        guessed = input(\"Please guess a letter  \")\n",
        "\n",
        "        # Define your rules here. Use a combination of conditionals and  string formating to combine your final guess into a word. \n",
        "        # For Every guess ensure you deduct from the attempts left. \n",
        "\n",
        "\n",
        "\n",
        "\n",
        "\n",
        "\n"
      ],
      "execution_count": 32,
      "outputs": []
    },
    {
      "cell_type": "code",
      "metadata": {
        "colab": {
          "base_uri": "https://localhost:8080/",
          "height": 35
        },
        "id": "OnwbvYHnDagB",
        "outputId": "69823ba2-bfbe-444d-c6dc-2a2f4bcfca66"
      },
      "source": [
        "guessed('chris')"
      ],
      "execution_count": 52,
      "outputs": [
        {
          "output_type": "execute_result",
          "data": {
            "application/vnd.google.colaboratory.intrinsic+json": {
              "type": "string"
            },
            "text/plain": [
              "'*****'"
            ]
          },
          "metadata": {
            "tags": []
          },
          "execution_count": 52
        }
      ]
    }
  ]
}
